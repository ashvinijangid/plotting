{
 "cells": [
  {
   "attachments": {},
   "cell_type": "markdown",
   "metadata": {},
   "source": [
    "# Bar Plotting "
   ]
  },
  {
   "cell_type": "markdown",
   "metadata": {
    "ExecuteTime": {
     "end_time": "2020-04-29T01:00:23.942728Z",
     "start_time": "2020-04-29T01:00:23.936522Z"
    }
   },
   "source": [
    "# <div style=\"font-size:25px\"></div>"
   ]
  },
  {
   "cell_type": "markdown",
   "metadata": {},
   "source": [
    "[documention](https://matplotlib.org/3.1.1/api/_as_gen/matplotlib.pyplot.bar.html)"
   ]
  },
  {
   "cell_type": "markdown",
   "metadata": {},
   "source": [
    "<div style=\"font-size:25px\"><pre class=\"hljs\" style=\"display: block; overflow-x: auto; padding: 0.5em; background: rgb(253, 246, 227); color: rgb(101, 123, 131);\">bar (\n",
    "x,\n",
    "height,\n",
    "<span class=\"hljs-attr\" style=\"color: rgb(181, 137, 0);\">width:</span> float=<span class=\"hljs-number\" style=\"color: rgb(42, 161, 152);\">0.8</span>,\n",
    "<span class=\"hljs-attr\" style=\"color: rgb(181, 137, 0);\">bottom:</span> NoneType=None,\n",
    "<span class=\"hljs-attr\" style=\"color: rgb(181, 137, 0);\">align:</span> str=builtins.str,\n",
    "<span class=\"hljs-attr\" style=\"color: rgb(181, 137, 0);\">data:</span> NoneType=None,\n",
    "*<span class=\"hljs-meta\" style=\"color: rgb(203, 75, 22);\">*kwargs</span>\n",
    ")</pre></div>"
   ]
  },
  {
   "cell_type": "markdown",
   "metadata": {},
   "source": [
    "\n",
    "<div style=\"font-size:25px\">\n",
    "<pre class=\"hljs\" style=\"display: block; overflow-x: auto; padding: 0.5em; background: rgb(253, 246, 227); color: rgb(101, 123, 131);\">**KW\n",
    "<span class=\"hljs-attribute\" style=\"color: rgb(181, 137, 0);\">color</span>: str\n",
    "<span class=\"hljs-selector-tag\" style=\"color: rgb(133, 153, 0);\">label</span>: str\n",
    "alpha: <span class=\"hljs-attribute\" style=\"color: rgb(181, 137, 0);\">float</span>\n",
    "align: str\n",
    "yerr: tuple ❘ numpy<span class=\"hljs-selector-class\" style=\"color: rgb(38, 139, 210);\">.uint64</span> ❘ numpy<span class=\"hljs-selector-class\" style=\"color: rgb(38, 139, 210);\">.int64</span> ❘ list</pre>\n",
    "    </div>\n"
   ]
  },
  {
   "cell_type": "markdown",
   "metadata": {},
   "source": [
    "### How to\n",
    "<div style=\"font-size:25px\"><pre class=\"hljs\" style=\"display: block; overflow-x: auto; padding: 0.5em; background: rgb(253, 246, 227); color: rgb(101, 123, 131);\"><span class=\"hljs-function\"><span class=\"hljs-title\" style=\"color: rgb(38, 139, 210);\">bar</span><span class=\"hljs-params\">(x, height)</span></span>\n",
    "<span class=\"hljs-function\"><span class=\"hljs-title\" style=\"color: rgb(38, 139, 210);\">bar</span><span class=\"hljs-params\">(x, height, color)</span></span>\n",
    "<span class=\"hljs-function\"><span class=\"hljs-title\" style=\"color: rgb(38, 139, 210);\">bar</span><span class=\"hljs-params\">(x, height, width, color)</span></span>\n",
    "<span class=\"hljs-function\"><span class=\"hljs-title\" style=\"color: rgb(38, 139, 210);\">bar</span><span class=\"hljs-params\">(x, height, align=<span class=\"hljs-string\" style=\"color: rgb(42, 161, 152);\">\"'center'\"</span>)</span></span>\n",
    "<span class=\"hljs-function\"><span class=\"hljs-title\" style=\"color: rgb(38, 139, 210);\">bar</span><span class=\"hljs-params\">(x, height, color, width)</span></span></pre></div>"
   ]
  },
  {
   "cell_type": "markdown",
   "metadata": {},
   "source": [
    "### Import Libs"
   ]
  },
  {
   "cell_type": "code",
   "execution_count": 2,
   "metadata": {
    "ExecuteTime": {
     "end_time": "2020-04-29T19:18:35.780616Z",
     "start_time": "2020-04-29T19:18:35.541454Z"
    }
   },
   "outputs": [],
   "source": [
    "import matplotlib.pyplot as plt"
   ]
  },
  {
   "cell_type": "code",
   "execution_count": 6,
   "metadata": {
    "ExecuteTime": {
     "end_time": "2020-04-29T19:21:16.127360Z",
     "start_time": "2020-04-29T19:21:16.117326Z"
    }
   },
   "outputs": [],
   "source": [
    "%matplotlib inline"
   ]
  },
  {
   "cell_type": "code",
   "execution_count": 10,
   "metadata": {
    "ExecuteTime": {
     "end_time": "2020-04-29T19:24:41.155402Z",
     "start_time": "2020-04-29T19:24:41.151234Z"
    }
   },
   "outputs": [],
   "source": [
    "subs = ('Math', \"Science\", \"Arts\", \"Music\", \"Sports\")\n",
    "mid = (10, 14, 12, 16, 17)\n",
    "final = (78, 23, 45, 35,67)"
   ]
  },
  {
   "cell_type": "code",
   "execution_count": 21,
   "metadata": {
    "ExecuteTime": {
     "end_time": "2020-04-29T19:27:59.284300Z",
     "start_time": "2020-04-29T19:27:59.055588Z"
    }
   },
   "outputs": [
    {
     "data": {
      "text/plain": [
       "<matplotlib.legend.Legend at 0x7f1a8947ef90>"
      ]
     },
     "execution_count": 21,
     "metadata": {},
     "output_type": "execute_result"
    },
    {
     "data": {
      "image/png": "[encoded data removed]",
      "text/plain": [
       "<Figure size 1000x500 with 1 Axes>"
      ]
     },
     "metadata": {
      "needs_background": "light"
     },
     "output_type": "display_data"
    }
   ],
   "source": [
    "fig = plt.figure(figsize=(10 ,5),dpi=100)\n",
    "plt.bar(subs, mid, color='orange', label = \"Mid Exm\", edgecolor='k')\n",
    "plt.bar(subs, final, bottom=mid,color='c', label = \"Final Exm\",edgecolor='k')\n",
    "plt.legend()"
   ]
  },
  {
   "cell_type": "code",
   "execution_count": null,
   "metadata": {},
   "outputs": [],
   "source": []
  }
 ],
 "metadata": {
  "kernelspec": {
   "display_name": "Python 3",
   "language": "python",
   "name": "python3"
  },
  "language_info": {
   "codemirror_mode": {
    "name": "ipython",
    "version": 3
   },
   "file_extension": ".py",
   "mimetype": "text/x-python",
   "name": "python",
   "nbconvert_exporter": "python",
   "pygments_lexer": "ipython3",
   "version": "3.7.7"
  }
 },
 "nbformat": 4,
 "nbformat_minor": 4
}
